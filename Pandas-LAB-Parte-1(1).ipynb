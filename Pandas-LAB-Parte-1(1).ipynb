{
 "cells": [
  {
   "cell_type": "markdown",
   "id": "36d45ea3-8710-469b-a877-4aa7a722607b",
   "metadata": {},
   "source": [
    "<img src=\"https://github.com/danielscarvalho/data/blob/master/img/FIAP-logo.png?raw=True\" style=\"float:right;\" width=\"200px\">\n",
    "\n",
    "# DATA SCIENCE & STATISTICAL COMPUTING [》](https://www.fiap.com.br/)\n",
    "\n",
    "## Dataframe & Python\n",
    "\n",
    "### LAP Parte 1: “10 minutes to pandas\"\n",
    "\n",
    "https://pandas.pydata.org/docs/user_guide/10min.html"
   ]
  },
  {
   "cell_type": "markdown",
   "id": "88d118b5-68d6-40aa-b09d-b65c36755e74",
   "metadata": {},
   "source": [
    "Sugestão: Colocar a página do Cookbook lado a lado com este notebook para realizar as operações."
   ]
  },
  {
   "cell_type": "code",
   "execution_count": 30,
   "id": "ce4947c5-7ff1-4e73-bff4-7ce37e55cfd5",
   "metadata": {},
   "outputs": [],
   "source": [
    "import numpy as np\n",
    "import pandas as pd"
   ]
  },
  {
   "cell_type": "code",
   "execution_count": 31,
   "id": "e19b9f2c-0e71-47e6-875b-6d33f7e951b6",
   "metadata": {},
   "outputs": [
    {
     "name": "stdout",
     "output_type": "stream",
     "text": [
      "\n",
      "INSTALLED VERSIONS\n",
      "------------------\n",
      "commit                : d9cdd2ee5a58015ef6f4d15c7226110c9aab8140\n",
      "python                : 3.12.2.final.0\n",
      "python-bits           : 64\n",
      "OS                    : Windows\n",
      "OS-release            : 11\n",
      "Version               : 10.0.22631\n",
      "machine               : AMD64\n",
      "processor             : Intel64 Family 6 Model 141 Stepping 1, GenuineIntel\n",
      "byteorder             : little\n",
      "LC_ALL                : None\n",
      "LANG                  : None\n",
      "LOCALE                : pt_BR.cp1252\n",
      "\n",
      "pandas                : 2.2.2\n",
      "numpy                 : 1.26.4\n",
      "pytz                  : 2024.1\n",
      "dateutil              : 2.9.0.post0\n",
      "setuptools            : 69.1.1\n",
      "pip                   : 24.0\n",
      "Cython                : None\n",
      "pytest                : None\n",
      "hypothesis            : None\n",
      "sphinx                : None\n",
      "blosc                 : None\n",
      "feather               : None\n",
      "xlsxwriter            : None\n",
      "lxml.etree            : None\n",
      "html5lib              : None\n",
      "pymysql               : None\n",
      "psycopg2              : None\n",
      "jinja2                : 3.1.3\n",
      "IPython               : 8.23.0\n",
      "pandas_datareader     : None\n",
      "adbc-driver-postgresql: None\n",
      "adbc-driver-sqlite    : None\n",
      "bs4                   : 4.12.3\n",
      "bottleneck            : None\n",
      "dataframe-api-compat  : None\n",
      "fastparquet           : None\n",
      "fsspec                : None\n",
      "gcsfs                 : None\n",
      "matplotlib            : 3.8.4\n",
      "numba                 : None\n",
      "numexpr               : None\n",
      "odfpy                 : None\n",
      "openpyxl              : None\n",
      "pandas_gbq            : None\n",
      "pyarrow               : None\n",
      "pyreadstat            : None\n",
      "python-calamine       : None\n",
      "pyxlsb                : None\n",
      "s3fs                  : None\n",
      "scipy                 : None\n",
      "sqlalchemy            : 2.0.28\n",
      "tables                : None\n",
      "tabulate              : None\n",
      "xarray                : None\n",
      "xlrd                  : None\n",
      "zstandard             : None\n",
      "tzdata                : 2024.1\n",
      "qtpy                  : None\n",
      "pyqt5                 : None\n"
     ]
    }
   ],
   "source": [
    "pd.show_versions()"
   ]
  },
  {
   "cell_type": "code",
   "execution_count": 32,
   "id": "40bd3a43-ead6-4bcd-9fc9-79b09d828e86",
   "metadata": {},
   "outputs": [
    {
     "data": {
      "text/plain": [
       "0    1.0\n",
       "1    3.0\n",
       "2    5.0\n",
       "3    NaN\n",
       "4    6.0\n",
       "5    8.0\n",
       "dtype: float64"
      ]
     },
     "execution_count": 32,
     "metadata": {},
     "output_type": "execute_result"
    }
   ],
   "source": [
    "s = pd.Series([1, 3, 5, np.nan, 6, 8])\n",
    "\n",
    "s"
   ]
  },
  {
   "cell_type": "code",
   "execution_count": 33,
   "id": "c57c63d1-c3cc-4d16-a9e6-1ff7e7071f0a",
   "metadata": {},
   "outputs": [],
   "source": [
    "dates = pd.date_range(\"20130101\", periods=6)"
   ]
  },
  {
   "cell_type": "code",
   "execution_count": 34,
   "id": "0f0289f5-31a5-4c8d-9256-dadb848e99c8",
   "metadata": {},
   "outputs": [
    {
     "data": {
      "text/plain": [
       "DatetimeIndex(['2013-01-01', '2013-01-02', '2013-01-03', '2013-01-04',\n",
       "               '2013-01-05', '2013-01-06'],\n",
       "              dtype='datetime64[ns]', freq='D')"
      ]
     },
     "execution_count": 34,
     "metadata": {},
     "output_type": "execute_result"
    }
   ],
   "source": [
    "dates"
   ]
  },
  {
   "cell_type": "code",
   "execution_count": 35,
   "id": "14379761-1570-4ded-b5ac-09905c0abec0",
   "metadata": {},
   "outputs": [],
   "source": [
    "df = pd.DataFrame(np.random.randn(6, 4), index=dates, columns=list(\"ABCD\"))"
   ]
  },
  {
   "cell_type": "code",
   "execution_count": 36,
   "id": "99952a33-cd8d-4d42-94c9-035d823a3849",
   "metadata": {},
   "outputs": [
    {
     "data": {
      "text/html": [
       "<div>\n",
       "<style scoped>\n",
       "    .dataframe tbody tr th:only-of-type {\n",
       "        vertical-align: middle;\n",
       "    }\n",
       "\n",
       "    .dataframe tbody tr th {\n",
       "        vertical-align: top;\n",
       "    }\n",
       "\n",
       "    .dataframe thead th {\n",
       "        text-align: right;\n",
       "    }\n",
       "</style>\n",
       "<table border=\"1\" class=\"dataframe\">\n",
       "  <thead>\n",
       "    <tr style=\"text-align: right;\">\n",
       "      <th></th>\n",
       "      <th>A</th>\n",
       "      <th>B</th>\n",
       "      <th>C</th>\n",
       "      <th>D</th>\n",
       "    </tr>\n",
       "  </thead>\n",
       "  <tbody>\n",
       "    <tr>\n",
       "      <th>2013-01-01</th>\n",
       "      <td>0.725385</td>\n",
       "      <td>-0.375967</td>\n",
       "      <td>0.654021</td>\n",
       "      <td>-2.064841</td>\n",
       "    </tr>\n",
       "    <tr>\n",
       "      <th>2013-01-02</th>\n",
       "      <td>0.259955</td>\n",
       "      <td>-0.208134</td>\n",
       "      <td>-0.635280</td>\n",
       "      <td>-1.133664</td>\n",
       "    </tr>\n",
       "    <tr>\n",
       "      <th>2013-01-03</th>\n",
       "      <td>0.154878</td>\n",
       "      <td>1.382225</td>\n",
       "      <td>-0.130069</td>\n",
       "      <td>0.252646</td>\n",
       "    </tr>\n",
       "    <tr>\n",
       "      <th>2013-01-04</th>\n",
       "      <td>0.885230</td>\n",
       "      <td>-0.044956</td>\n",
       "      <td>-0.227828</td>\n",
       "      <td>-0.085034</td>\n",
       "    </tr>\n",
       "    <tr>\n",
       "      <th>2013-01-05</th>\n",
       "      <td>-0.405593</td>\n",
       "      <td>-0.493906</td>\n",
       "      <td>0.931452</td>\n",
       "      <td>-0.611206</td>\n",
       "    </tr>\n",
       "    <tr>\n",
       "      <th>2013-01-06</th>\n",
       "      <td>0.438658</td>\n",
       "      <td>-0.569125</td>\n",
       "      <td>-0.245950</td>\n",
       "      <td>-1.683989</td>\n",
       "    </tr>\n",
       "  </tbody>\n",
       "</table>\n",
       "</div>"
      ],
      "text/plain": [
       "                   A         B         C         D\n",
       "2013-01-01  0.725385 -0.375967  0.654021 -2.064841\n",
       "2013-01-02  0.259955 -0.208134 -0.635280 -1.133664\n",
       "2013-01-03  0.154878  1.382225 -0.130069  0.252646\n",
       "2013-01-04  0.885230 -0.044956 -0.227828 -0.085034\n",
       "2013-01-05 -0.405593 -0.493906  0.931452 -0.611206\n",
       "2013-01-06  0.438658 -0.569125 -0.245950 -1.683989"
      ]
     },
     "execution_count": 36,
     "metadata": {},
     "output_type": "execute_result"
    }
   ],
   "source": [
    "df"
   ]
  },
  {
   "cell_type": "code",
   "execution_count": 37,
   "id": "f9e0d11d-b3ff-4431-bd46-25a69e11e32b",
   "metadata": {},
   "outputs": [],
   "source": [
    "df2 = pd.DataFrame(\n",
    "    {\n",
    "        \"A\": 1.0,\n",
    "        \"B\": pd.Timestamp(\"20130102\"),\n",
    "        \"C\": pd.Series(1, index=list(range(4)), dtype=\"float32\"),\n",
    "        \"D\": np.array([3] * 4, dtype=\"int32\"),\n",
    "        \"E\": pd.Categorical([\"test\", \"train\", \"test\", \"train\"]),\n",
    "        \"F\": \"foo\",\n",
    "    }\n",
    ")"
   ]
  },
  {
   "cell_type": "code",
   "execution_count": 38,
   "id": "714b0b6d-3f18-4bc7-be37-f33334646929",
   "metadata": {},
   "outputs": [
    {
     "data": {
      "text/html": [
       "<div>\n",
       "<style scoped>\n",
       "    .dataframe tbody tr th:only-of-type {\n",
       "        vertical-align: middle;\n",
       "    }\n",
       "\n",
       "    .dataframe tbody tr th {\n",
       "        vertical-align: top;\n",
       "    }\n",
       "\n",
       "    .dataframe thead th {\n",
       "        text-align: right;\n",
       "    }\n",
       "</style>\n",
       "<table border=\"1\" class=\"dataframe\">\n",
       "  <thead>\n",
       "    <tr style=\"text-align: right;\">\n",
       "      <th></th>\n",
       "      <th>A</th>\n",
       "      <th>B</th>\n",
       "      <th>C</th>\n",
       "      <th>D</th>\n",
       "      <th>E</th>\n",
       "      <th>F</th>\n",
       "    </tr>\n",
       "  </thead>\n",
       "  <tbody>\n",
       "    <tr>\n",
       "      <th>0</th>\n",
       "      <td>1.0</td>\n",
       "      <td>2013-01-02</td>\n",
       "      <td>1.0</td>\n",
       "      <td>3</td>\n",
       "      <td>test</td>\n",
       "      <td>foo</td>\n",
       "    </tr>\n",
       "    <tr>\n",
       "      <th>1</th>\n",
       "      <td>1.0</td>\n",
       "      <td>2013-01-02</td>\n",
       "      <td>1.0</td>\n",
       "      <td>3</td>\n",
       "      <td>train</td>\n",
       "      <td>foo</td>\n",
       "    </tr>\n",
       "    <tr>\n",
       "      <th>2</th>\n",
       "      <td>1.0</td>\n",
       "      <td>2013-01-02</td>\n",
       "      <td>1.0</td>\n",
       "      <td>3</td>\n",
       "      <td>test</td>\n",
       "      <td>foo</td>\n",
       "    </tr>\n",
       "    <tr>\n",
       "      <th>3</th>\n",
       "      <td>1.0</td>\n",
       "      <td>2013-01-02</td>\n",
       "      <td>1.0</td>\n",
       "      <td>3</td>\n",
       "      <td>train</td>\n",
       "      <td>foo</td>\n",
       "    </tr>\n",
       "  </tbody>\n",
       "</table>\n",
       "</div>"
      ],
      "text/plain": [
       "     A          B    C  D      E    F\n",
       "0  1.0 2013-01-02  1.0  3   test  foo\n",
       "1  1.0 2013-01-02  1.0  3  train  foo\n",
       "2  1.0 2013-01-02  1.0  3   test  foo\n",
       "3  1.0 2013-01-02  1.0  3  train  foo"
      ]
     },
     "execution_count": 38,
     "metadata": {},
     "output_type": "execute_result"
    }
   ],
   "source": [
    "df2"
   ]
  },
  {
   "cell_type": "code",
   "execution_count": 39,
   "id": "b4e1bd4e-af96-4c1f-b629-52709629df69",
   "metadata": {},
   "outputs": [
    {
     "data": {
      "text/plain": [
       "A          float64\n",
       "B    datetime64[s]\n",
       "C          float32\n",
       "D            int32\n",
       "E         category\n",
       "F           object\n",
       "dtype: object"
      ]
     },
     "execution_count": 39,
     "metadata": {},
     "output_type": "execute_result"
    }
   ],
   "source": [
    "df2.dtypes"
   ]
  },
  {
   "cell_type": "code",
   "execution_count": 40,
   "id": "b2a1296e-e68a-48c2-b0fa-960f5d63b3cc",
   "metadata": {},
   "outputs": [
    {
     "data": {
      "text/html": [
       "<div>\n",
       "<style scoped>\n",
       "    .dataframe tbody tr th:only-of-type {\n",
       "        vertical-align: middle;\n",
       "    }\n",
       "\n",
       "    .dataframe tbody tr th {\n",
       "        vertical-align: top;\n",
       "    }\n",
       "\n",
       "    .dataframe thead th {\n",
       "        text-align: right;\n",
       "    }\n",
       "</style>\n",
       "<table border=\"1\" class=\"dataframe\">\n",
       "  <thead>\n",
       "    <tr style=\"text-align: right;\">\n",
       "      <th></th>\n",
       "      <th>A</th>\n",
       "      <th>B</th>\n",
       "      <th>C</th>\n",
       "      <th>D</th>\n",
       "    </tr>\n",
       "  </thead>\n",
       "  <tbody>\n",
       "    <tr>\n",
       "      <th>2013-01-01</th>\n",
       "      <td>0.725385</td>\n",
       "      <td>-0.375967</td>\n",
       "      <td>0.654021</td>\n",
       "      <td>-2.064841</td>\n",
       "    </tr>\n",
       "    <tr>\n",
       "      <th>2013-01-02</th>\n",
       "      <td>0.259955</td>\n",
       "      <td>-0.208134</td>\n",
       "      <td>-0.635280</td>\n",
       "      <td>-1.133664</td>\n",
       "    </tr>\n",
       "    <tr>\n",
       "      <th>2013-01-03</th>\n",
       "      <td>0.154878</td>\n",
       "      <td>1.382225</td>\n",
       "      <td>-0.130069</td>\n",
       "      <td>0.252646</td>\n",
       "    </tr>\n",
       "    <tr>\n",
       "      <th>2013-01-04</th>\n",
       "      <td>0.885230</td>\n",
       "      <td>-0.044956</td>\n",
       "      <td>-0.227828</td>\n",
       "      <td>-0.085034</td>\n",
       "    </tr>\n",
       "    <tr>\n",
       "      <th>2013-01-05</th>\n",
       "      <td>-0.405593</td>\n",
       "      <td>-0.493906</td>\n",
       "      <td>0.931452</td>\n",
       "      <td>-0.611206</td>\n",
       "    </tr>\n",
       "  </tbody>\n",
       "</table>\n",
       "</div>"
      ],
      "text/plain": [
       "                   A         B         C         D\n",
       "2013-01-01  0.725385 -0.375967  0.654021 -2.064841\n",
       "2013-01-02  0.259955 -0.208134 -0.635280 -1.133664\n",
       "2013-01-03  0.154878  1.382225 -0.130069  0.252646\n",
       "2013-01-04  0.885230 -0.044956 -0.227828 -0.085034\n",
       "2013-01-05 -0.405593 -0.493906  0.931452 -0.611206"
      ]
     },
     "execution_count": 40,
     "metadata": {},
     "output_type": "execute_result"
    }
   ],
   "source": [
    "df.head()\n"
   ]
  },
  {
   "cell_type": "code",
   "execution_count": 41,
   "id": "2bf85e11-bcf9-40c0-81ef-22e1b875d71f",
   "metadata": {},
   "outputs": [
    {
     "data": {
      "text/html": [
       "<div>\n",
       "<style scoped>\n",
       "    .dataframe tbody tr th:only-of-type {\n",
       "        vertical-align: middle;\n",
       "    }\n",
       "\n",
       "    .dataframe tbody tr th {\n",
       "        vertical-align: top;\n",
       "    }\n",
       "\n",
       "    .dataframe thead th {\n",
       "        text-align: right;\n",
       "    }\n",
       "</style>\n",
       "<table border=\"1\" class=\"dataframe\">\n",
       "  <thead>\n",
       "    <tr style=\"text-align: right;\">\n",
       "      <th></th>\n",
       "      <th>A</th>\n",
       "      <th>B</th>\n",
       "      <th>C</th>\n",
       "      <th>D</th>\n",
       "    </tr>\n",
       "  </thead>\n",
       "  <tbody>\n",
       "    <tr>\n",
       "      <th>2013-01-04</th>\n",
       "      <td>0.885230</td>\n",
       "      <td>-0.044956</td>\n",
       "      <td>-0.227828</td>\n",
       "      <td>-0.085034</td>\n",
       "    </tr>\n",
       "    <tr>\n",
       "      <th>2013-01-05</th>\n",
       "      <td>-0.405593</td>\n",
       "      <td>-0.493906</td>\n",
       "      <td>0.931452</td>\n",
       "      <td>-0.611206</td>\n",
       "    </tr>\n",
       "    <tr>\n",
       "      <th>2013-01-06</th>\n",
       "      <td>0.438658</td>\n",
       "      <td>-0.569125</td>\n",
       "      <td>-0.245950</td>\n",
       "      <td>-1.683989</td>\n",
       "    </tr>\n",
       "  </tbody>\n",
       "</table>\n",
       "</div>"
      ],
      "text/plain": [
       "                   A         B         C         D\n",
       "2013-01-04  0.885230 -0.044956 -0.227828 -0.085034\n",
       "2013-01-05 -0.405593 -0.493906  0.931452 -0.611206\n",
       "2013-01-06  0.438658 -0.569125 -0.245950 -1.683989"
      ]
     },
     "execution_count": 41,
     "metadata": {},
     "output_type": "execute_result"
    }
   ],
   "source": [
    "df.tail(3)"
   ]
  },
  {
   "cell_type": "code",
   "execution_count": 42,
   "id": "6a1081e3-e992-4f52-aef3-797847128ff1",
   "metadata": {},
   "outputs": [
    {
     "data": {
      "text/plain": [
       "DatetimeIndex(['2013-01-01', '2013-01-02', '2013-01-03', '2013-01-04',\n",
       "               '2013-01-05', '2013-01-06'],\n",
       "              dtype='datetime64[ns]', freq='D')"
      ]
     },
     "execution_count": 42,
     "metadata": {},
     "output_type": "execute_result"
    }
   ],
   "source": [
    "df.index"
   ]
  },
  {
   "cell_type": "code",
   "execution_count": 43,
   "id": "e0042bb0-8d50-4342-a9a8-dfeb91234013",
   "metadata": {},
   "outputs": [
    {
     "data": {
      "text/plain": [
       "Index(['A', 'B', 'C', 'D'], dtype='object')"
      ]
     },
     "execution_count": 43,
     "metadata": {},
     "output_type": "execute_result"
    }
   ],
   "source": [
    "df.columns"
   ]
  },
  {
   "cell_type": "code",
   "execution_count": 44,
   "id": "e4c49096-8e56-45e9-915b-abef5d6f8539",
   "metadata": {},
   "outputs": [
    {
     "data": {
      "text/plain": [
       "array([[ 0.72538547, -0.37596658,  0.65402068, -2.06484122],\n",
       "       [ 0.25995466, -0.20813399, -0.63527954, -1.13366425],\n",
       "       [ 0.15487778,  1.38222508, -0.13006921,  0.25264608],\n",
       "       [ 0.88522961, -0.04495618, -0.22782837, -0.0850337 ],\n",
       "       [-0.40559292, -0.49390594,  0.93145226, -0.61120566],\n",
       "       [ 0.43865837, -0.5691254 , -0.24595019, -1.68398944]])"
      ]
     },
     "execution_count": 44,
     "metadata": {},
     "output_type": "execute_result"
    }
   ],
   "source": [
    "df.to_numpy()"
   ]
  },
  {
   "cell_type": "code",
   "execution_count": 45,
   "id": "c0eadb57-5897-4d2f-8fb9-a00615b36733",
   "metadata": {},
   "outputs": [
    {
     "data": {
      "text/plain": [
       "A          float64\n",
       "B    datetime64[s]\n",
       "C          float32\n",
       "D            int32\n",
       "E         category\n",
       "F           object\n",
       "dtype: object"
      ]
     },
     "execution_count": 45,
     "metadata": {},
     "output_type": "execute_result"
    }
   ],
   "source": [
    "df2.dtypes"
   ]
  },
  {
   "cell_type": "code",
   "execution_count": 46,
   "id": "581938e3-fdac-43ee-94c1-db33467b5569",
   "metadata": {},
   "outputs": [
    {
     "data": {
      "text/plain": [
       "array([[1.0, Timestamp('2013-01-02 00:00:00'), 1.0, 3, 'test', 'foo'],\n",
       "       [1.0, Timestamp('2013-01-02 00:00:00'), 1.0, 3, 'train', 'foo'],\n",
       "       [1.0, Timestamp('2013-01-02 00:00:00'), 1.0, 3, 'test', 'foo'],\n",
       "       [1.0, Timestamp('2013-01-02 00:00:00'), 1.0, 3, 'train', 'foo']],\n",
       "      dtype=object)"
      ]
     },
     "execution_count": 46,
     "metadata": {},
     "output_type": "execute_result"
    }
   ],
   "source": [
    "df2.to_numpy()"
   ]
  },
  {
   "cell_type": "code",
   "execution_count": 47,
   "id": "9cb257f1-1520-45dc-a8b1-1a002a8f3be7",
   "metadata": {},
   "outputs": [
    {
     "data": {
      "text/html": [
       "<div>\n",
       "<style scoped>\n",
       "    .dataframe tbody tr th:only-of-type {\n",
       "        vertical-align: middle;\n",
       "    }\n",
       "\n",
       "    .dataframe tbody tr th {\n",
       "        vertical-align: top;\n",
       "    }\n",
       "\n",
       "    .dataframe thead th {\n",
       "        text-align: right;\n",
       "    }\n",
       "</style>\n",
       "<table border=\"1\" class=\"dataframe\">\n",
       "  <thead>\n",
       "    <tr style=\"text-align: right;\">\n",
       "      <th></th>\n",
       "      <th>A</th>\n",
       "      <th>B</th>\n",
       "      <th>C</th>\n",
       "      <th>D</th>\n",
       "    </tr>\n",
       "  </thead>\n",
       "  <tbody>\n",
       "    <tr>\n",
       "      <th>count</th>\n",
       "      <td>6.000000</td>\n",
       "      <td>6.000000</td>\n",
       "      <td>6.000000</td>\n",
       "      <td>6.000000</td>\n",
       "    </tr>\n",
       "    <tr>\n",
       "      <th>mean</th>\n",
       "      <td>0.343085</td>\n",
       "      <td>-0.051644</td>\n",
       "      <td>0.057724</td>\n",
       "      <td>-0.887681</td>\n",
       "    </tr>\n",
       "    <tr>\n",
       "      <th>std</th>\n",
       "      <td>0.458707</td>\n",
       "      <td>0.727885</td>\n",
       "      <td>0.601373</td>\n",
       "      <td>0.905687</td>\n",
       "    </tr>\n",
       "    <tr>\n",
       "      <th>min</th>\n",
       "      <td>-0.405593</td>\n",
       "      <td>-0.569125</td>\n",
       "      <td>-0.635280</td>\n",
       "      <td>-2.064841</td>\n",
       "    </tr>\n",
       "    <tr>\n",
       "      <th>25%</th>\n",
       "      <td>0.181147</td>\n",
       "      <td>-0.464421</td>\n",
       "      <td>-0.241420</td>\n",
       "      <td>-1.546408</td>\n",
       "    </tr>\n",
       "    <tr>\n",
       "      <th>50%</th>\n",
       "      <td>0.349307</td>\n",
       "      <td>-0.292050</td>\n",
       "      <td>-0.178949</td>\n",
       "      <td>-0.872435</td>\n",
       "    </tr>\n",
       "    <tr>\n",
       "      <th>75%</th>\n",
       "      <td>0.653704</td>\n",
       "      <td>-0.085751</td>\n",
       "      <td>0.457998</td>\n",
       "      <td>-0.216577</td>\n",
       "    </tr>\n",
       "    <tr>\n",
       "      <th>max</th>\n",
       "      <td>0.885230</td>\n",
       "      <td>1.382225</td>\n",
       "      <td>0.931452</td>\n",
       "      <td>0.252646</td>\n",
       "    </tr>\n",
       "  </tbody>\n",
       "</table>\n",
       "</div>"
      ],
      "text/plain": [
       "              A         B         C         D\n",
       "count  6.000000  6.000000  6.000000  6.000000\n",
       "mean   0.343085 -0.051644  0.057724 -0.887681\n",
       "std    0.458707  0.727885  0.601373  0.905687\n",
       "min   -0.405593 -0.569125 -0.635280 -2.064841\n",
       "25%    0.181147 -0.464421 -0.241420 -1.546408\n",
       "50%    0.349307 -0.292050 -0.178949 -0.872435\n",
       "75%    0.653704 -0.085751  0.457998 -0.216577\n",
       "max    0.885230  1.382225  0.931452  0.252646"
      ]
     },
     "execution_count": 47,
     "metadata": {},
     "output_type": "execute_result"
    }
   ],
   "source": [
    "df.describe()"
   ]
  },
  {
   "cell_type": "code",
   "execution_count": 48,
   "id": "93ac43b5-8aed-4166-a381-94a2b9543140",
   "metadata": {},
   "outputs": [
    {
     "data": {
      "text/html": [
       "<div>\n",
       "<style scoped>\n",
       "    .dataframe tbody tr th:only-of-type {\n",
       "        vertical-align: middle;\n",
       "    }\n",
       "\n",
       "    .dataframe tbody tr th {\n",
       "        vertical-align: top;\n",
       "    }\n",
       "\n",
       "    .dataframe thead th {\n",
       "        text-align: right;\n",
       "    }\n",
       "</style>\n",
       "<table border=\"1\" class=\"dataframe\">\n",
       "  <thead>\n",
       "    <tr style=\"text-align: right;\">\n",
       "      <th></th>\n",
       "      <th>2013-01-01</th>\n",
       "      <th>2013-01-02</th>\n",
       "      <th>2013-01-03</th>\n",
       "      <th>2013-01-04</th>\n",
       "      <th>2013-01-05</th>\n",
       "      <th>2013-01-06</th>\n",
       "    </tr>\n",
       "  </thead>\n",
       "  <tbody>\n",
       "    <tr>\n",
       "      <th>A</th>\n",
       "      <td>0.725385</td>\n",
       "      <td>0.259955</td>\n",
       "      <td>0.154878</td>\n",
       "      <td>0.885230</td>\n",
       "      <td>-0.405593</td>\n",
       "      <td>0.438658</td>\n",
       "    </tr>\n",
       "    <tr>\n",
       "      <th>B</th>\n",
       "      <td>-0.375967</td>\n",
       "      <td>-0.208134</td>\n",
       "      <td>1.382225</td>\n",
       "      <td>-0.044956</td>\n",
       "      <td>-0.493906</td>\n",
       "      <td>-0.569125</td>\n",
       "    </tr>\n",
       "    <tr>\n",
       "      <th>C</th>\n",
       "      <td>0.654021</td>\n",
       "      <td>-0.635280</td>\n",
       "      <td>-0.130069</td>\n",
       "      <td>-0.227828</td>\n",
       "      <td>0.931452</td>\n",
       "      <td>-0.245950</td>\n",
       "    </tr>\n",
       "    <tr>\n",
       "      <th>D</th>\n",
       "      <td>-2.064841</td>\n",
       "      <td>-1.133664</td>\n",
       "      <td>0.252646</td>\n",
       "      <td>-0.085034</td>\n",
       "      <td>-0.611206</td>\n",
       "      <td>-1.683989</td>\n",
       "    </tr>\n",
       "  </tbody>\n",
       "</table>\n",
       "</div>"
      ],
      "text/plain": [
       "   2013-01-01  2013-01-02  2013-01-03  2013-01-04  2013-01-05  2013-01-06\n",
       "A    0.725385    0.259955    0.154878    0.885230   -0.405593    0.438658\n",
       "B   -0.375967   -0.208134    1.382225   -0.044956   -0.493906   -0.569125\n",
       "C    0.654021   -0.635280   -0.130069   -0.227828    0.931452   -0.245950\n",
       "D   -2.064841   -1.133664    0.252646   -0.085034   -0.611206   -1.683989"
      ]
     },
     "execution_count": 48,
     "metadata": {},
     "output_type": "execute_result"
    }
   ],
   "source": [
    "df.T"
   ]
  },
  {
   "cell_type": "code",
   "execution_count": 49,
   "id": "6c394eaf-97dc-4d3b-aeb1-1fe9d8cba981",
   "metadata": {},
   "outputs": [
    {
     "data": {
      "text/html": [
       "<div>\n",
       "<style scoped>\n",
       "    .dataframe tbody tr th:only-of-type {\n",
       "        vertical-align: middle;\n",
       "    }\n",
       "\n",
       "    .dataframe tbody tr th {\n",
       "        vertical-align: top;\n",
       "    }\n",
       "\n",
       "    .dataframe thead th {\n",
       "        text-align: right;\n",
       "    }\n",
       "</style>\n",
       "<table border=\"1\" class=\"dataframe\">\n",
       "  <thead>\n",
       "    <tr style=\"text-align: right;\">\n",
       "      <th></th>\n",
       "      <th>D</th>\n",
       "      <th>C</th>\n",
       "      <th>B</th>\n",
       "      <th>A</th>\n",
       "    </tr>\n",
       "  </thead>\n",
       "  <tbody>\n",
       "    <tr>\n",
       "      <th>2013-01-01</th>\n",
       "      <td>-2.064841</td>\n",
       "      <td>0.654021</td>\n",
       "      <td>-0.375967</td>\n",
       "      <td>0.725385</td>\n",
       "    </tr>\n",
       "    <tr>\n",
       "      <th>2013-01-02</th>\n",
       "      <td>-1.133664</td>\n",
       "      <td>-0.635280</td>\n",
       "      <td>-0.208134</td>\n",
       "      <td>0.259955</td>\n",
       "    </tr>\n",
       "    <tr>\n",
       "      <th>2013-01-03</th>\n",
       "      <td>0.252646</td>\n",
       "      <td>-0.130069</td>\n",
       "      <td>1.382225</td>\n",
       "      <td>0.154878</td>\n",
       "    </tr>\n",
       "    <tr>\n",
       "      <th>2013-01-04</th>\n",
       "      <td>-0.085034</td>\n",
       "      <td>-0.227828</td>\n",
       "      <td>-0.044956</td>\n",
       "      <td>0.885230</td>\n",
       "    </tr>\n",
       "    <tr>\n",
       "      <th>2013-01-05</th>\n",
       "      <td>-0.611206</td>\n",
       "      <td>0.931452</td>\n",
       "      <td>-0.493906</td>\n",
       "      <td>-0.405593</td>\n",
       "    </tr>\n",
       "    <tr>\n",
       "      <th>2013-01-06</th>\n",
       "      <td>-1.683989</td>\n",
       "      <td>-0.245950</td>\n",
       "      <td>-0.569125</td>\n",
       "      <td>0.438658</td>\n",
       "    </tr>\n",
       "  </tbody>\n",
       "</table>\n",
       "</div>"
      ],
      "text/plain": [
       "                   D         C         B         A\n",
       "2013-01-01 -2.064841  0.654021 -0.375967  0.725385\n",
       "2013-01-02 -1.133664 -0.635280 -0.208134  0.259955\n",
       "2013-01-03  0.252646 -0.130069  1.382225  0.154878\n",
       "2013-01-04 -0.085034 -0.227828 -0.044956  0.885230\n",
       "2013-01-05 -0.611206  0.931452 -0.493906 -0.405593\n",
       "2013-01-06 -1.683989 -0.245950 -0.569125  0.438658"
      ]
     },
     "execution_count": 49,
     "metadata": {},
     "output_type": "execute_result"
    }
   ],
   "source": [
    "df.sort_index(axis=1, ascending=False)"
   ]
  },
  {
   "cell_type": "code",
   "execution_count": 50,
   "id": "a4689bcf-11bf-4e2b-a72b-d581df5ddde4",
   "metadata": {},
   "outputs": [
    {
     "data": {
      "text/html": [
       "<div>\n",
       "<style scoped>\n",
       "    .dataframe tbody tr th:only-of-type {\n",
       "        vertical-align: middle;\n",
       "    }\n",
       "\n",
       "    .dataframe tbody tr th {\n",
       "        vertical-align: top;\n",
       "    }\n",
       "\n",
       "    .dataframe thead th {\n",
       "        text-align: right;\n",
       "    }\n",
       "</style>\n",
       "<table border=\"1\" class=\"dataframe\">\n",
       "  <thead>\n",
       "    <tr style=\"text-align: right;\">\n",
       "      <th></th>\n",
       "      <th>A</th>\n",
       "      <th>B</th>\n",
       "      <th>C</th>\n",
       "      <th>D</th>\n",
       "    </tr>\n",
       "  </thead>\n",
       "  <tbody>\n",
       "    <tr>\n",
       "      <th>2013-01-06</th>\n",
       "      <td>0.438658</td>\n",
       "      <td>-0.569125</td>\n",
       "      <td>-0.245950</td>\n",
       "      <td>-1.683989</td>\n",
       "    </tr>\n",
       "    <tr>\n",
       "      <th>2013-01-05</th>\n",
       "      <td>-0.405593</td>\n",
       "      <td>-0.493906</td>\n",
       "      <td>0.931452</td>\n",
       "      <td>-0.611206</td>\n",
       "    </tr>\n",
       "    <tr>\n",
       "      <th>2013-01-01</th>\n",
       "      <td>0.725385</td>\n",
       "      <td>-0.375967</td>\n",
       "      <td>0.654021</td>\n",
       "      <td>-2.064841</td>\n",
       "    </tr>\n",
       "    <tr>\n",
       "      <th>2013-01-02</th>\n",
       "      <td>0.259955</td>\n",
       "      <td>-0.208134</td>\n",
       "      <td>-0.635280</td>\n",
       "      <td>-1.133664</td>\n",
       "    </tr>\n",
       "    <tr>\n",
       "      <th>2013-01-04</th>\n",
       "      <td>0.885230</td>\n",
       "      <td>-0.044956</td>\n",
       "      <td>-0.227828</td>\n",
       "      <td>-0.085034</td>\n",
       "    </tr>\n",
       "    <tr>\n",
       "      <th>2013-01-03</th>\n",
       "      <td>0.154878</td>\n",
       "      <td>1.382225</td>\n",
       "      <td>-0.130069</td>\n",
       "      <td>0.252646</td>\n",
       "    </tr>\n",
       "  </tbody>\n",
       "</table>\n",
       "</div>"
      ],
      "text/plain": [
       "                   A         B         C         D\n",
       "2013-01-06  0.438658 -0.569125 -0.245950 -1.683989\n",
       "2013-01-05 -0.405593 -0.493906  0.931452 -0.611206\n",
       "2013-01-01  0.725385 -0.375967  0.654021 -2.064841\n",
       "2013-01-02  0.259955 -0.208134 -0.635280 -1.133664\n",
       "2013-01-04  0.885230 -0.044956 -0.227828 -0.085034\n",
       "2013-01-03  0.154878  1.382225 -0.130069  0.252646"
      ]
     },
     "execution_count": 50,
     "metadata": {},
     "output_type": "execute_result"
    }
   ],
   "source": [
    "df.sort_values(by=\"B\")"
   ]
  },
  {
   "cell_type": "code",
   "execution_count": 51,
   "id": "6b8d65df-85f8-4e0f-90dd-de7c1f617782",
   "metadata": {},
   "outputs": [
    {
     "data": {
      "text/plain": [
       "2013-01-01    0.725385\n",
       "2013-01-02    0.259955\n",
       "2013-01-03    0.154878\n",
       "2013-01-04    0.885230\n",
       "2013-01-05   -0.405593\n",
       "2013-01-06    0.438658\n",
       "Freq: D, Name: A, dtype: float64"
      ]
     },
     "execution_count": 51,
     "metadata": {},
     "output_type": "execute_result"
    }
   ],
   "source": [
    "df[\"A\"]"
   ]
  },
  {
   "cell_type": "code",
   "execution_count": 52,
   "id": "d76dacad-b913-47b0-8ca5-aa777f8327a6",
   "metadata": {},
   "outputs": [
    {
     "data": {
      "text/html": [
       "<div>\n",
       "<style scoped>\n",
       "    .dataframe tbody tr th:only-of-type {\n",
       "        vertical-align: middle;\n",
       "    }\n",
       "\n",
       "    .dataframe tbody tr th {\n",
       "        vertical-align: top;\n",
       "    }\n",
       "\n",
       "    .dataframe thead th {\n",
       "        text-align: right;\n",
       "    }\n",
       "</style>\n",
       "<table border=\"1\" class=\"dataframe\">\n",
       "  <thead>\n",
       "    <tr style=\"text-align: right;\">\n",
       "      <th></th>\n",
       "      <th>A</th>\n",
       "      <th>B</th>\n",
       "      <th>C</th>\n",
       "      <th>D</th>\n",
       "    </tr>\n",
       "  </thead>\n",
       "  <tbody>\n",
       "    <tr>\n",
       "      <th>2013-01-01</th>\n",
       "      <td>0.725385</td>\n",
       "      <td>-0.375967</td>\n",
       "      <td>0.654021</td>\n",
       "      <td>-2.064841</td>\n",
       "    </tr>\n",
       "    <tr>\n",
       "      <th>2013-01-02</th>\n",
       "      <td>0.259955</td>\n",
       "      <td>-0.208134</td>\n",
       "      <td>-0.635280</td>\n",
       "      <td>-1.133664</td>\n",
       "    </tr>\n",
       "    <tr>\n",
       "      <th>2013-01-03</th>\n",
       "      <td>0.154878</td>\n",
       "      <td>1.382225</td>\n",
       "      <td>-0.130069</td>\n",
       "      <td>0.252646</td>\n",
       "    </tr>\n",
       "  </tbody>\n",
       "</table>\n",
       "</div>"
      ],
      "text/plain": [
       "                   A         B         C         D\n",
       "2013-01-01  0.725385 -0.375967  0.654021 -2.064841\n",
       "2013-01-02  0.259955 -0.208134 -0.635280 -1.133664\n",
       "2013-01-03  0.154878  1.382225 -0.130069  0.252646"
      ]
     },
     "execution_count": 52,
     "metadata": {},
     "output_type": "execute_result"
    }
   ],
   "source": [
    "df[0:3]"
   ]
  },
  {
   "cell_type": "code",
   "execution_count": 53,
   "id": "e7a2aee6-bee9-4483-aac9-cbe095c871c3",
   "metadata": {},
   "outputs": [
    {
     "data": {
      "text/html": [
       "<div>\n",
       "<style scoped>\n",
       "    .dataframe tbody tr th:only-of-type {\n",
       "        vertical-align: middle;\n",
       "    }\n",
       "\n",
       "    .dataframe tbody tr th {\n",
       "        vertical-align: top;\n",
       "    }\n",
       "\n",
       "    .dataframe thead th {\n",
       "        text-align: right;\n",
       "    }\n",
       "</style>\n",
       "<table border=\"1\" class=\"dataframe\">\n",
       "  <thead>\n",
       "    <tr style=\"text-align: right;\">\n",
       "      <th></th>\n",
       "      <th>A</th>\n",
       "      <th>B</th>\n",
       "      <th>C</th>\n",
       "      <th>D</th>\n",
       "    </tr>\n",
       "  </thead>\n",
       "  <tbody>\n",
       "    <tr>\n",
       "      <th>2013-01-02</th>\n",
       "      <td>0.259955</td>\n",
       "      <td>-0.208134</td>\n",
       "      <td>-0.635280</td>\n",
       "      <td>-1.133664</td>\n",
       "    </tr>\n",
       "    <tr>\n",
       "      <th>2013-01-03</th>\n",
       "      <td>0.154878</td>\n",
       "      <td>1.382225</td>\n",
       "      <td>-0.130069</td>\n",
       "      <td>0.252646</td>\n",
       "    </tr>\n",
       "    <tr>\n",
       "      <th>2013-01-04</th>\n",
       "      <td>0.885230</td>\n",
       "      <td>-0.044956</td>\n",
       "      <td>-0.227828</td>\n",
       "      <td>-0.085034</td>\n",
       "    </tr>\n",
       "    <tr>\n",
       "      <th>2013-01-05</th>\n",
       "      <td>-0.405593</td>\n",
       "      <td>-0.493906</td>\n",
       "      <td>0.931452</td>\n",
       "      <td>-0.611206</td>\n",
       "    </tr>\n",
       "  </tbody>\n",
       "</table>\n",
       "</div>"
      ],
      "text/plain": [
       "                   A         B         C         D\n",
       "2013-01-02  0.259955 -0.208134 -0.635280 -1.133664\n",
       "2013-01-03  0.154878  1.382225 -0.130069  0.252646\n",
       "2013-01-04  0.885230 -0.044956 -0.227828 -0.085034\n",
       "2013-01-05 -0.405593 -0.493906  0.931452 -0.611206"
      ]
     },
     "execution_count": 53,
     "metadata": {},
     "output_type": "execute_result"
    }
   ],
   "source": [
    "df[1:-1]"
   ]
  },
  {
   "cell_type": "code",
   "execution_count": 54,
   "id": "9ecd4628-d62f-45a2-9383-2cee0dbc74f7",
   "metadata": {},
   "outputs": [
    {
     "data": {
      "text/html": [
       "<div>\n",
       "<style scoped>\n",
       "    .dataframe tbody tr th:only-of-type {\n",
       "        vertical-align: middle;\n",
       "    }\n",
       "\n",
       "    .dataframe tbody tr th {\n",
       "        vertical-align: top;\n",
       "    }\n",
       "\n",
       "    .dataframe thead th {\n",
       "        text-align: right;\n",
       "    }\n",
       "</style>\n",
       "<table border=\"1\" class=\"dataframe\">\n",
       "  <thead>\n",
       "    <tr style=\"text-align: right;\">\n",
       "      <th></th>\n",
       "      <th>A</th>\n",
       "      <th>B</th>\n",
       "      <th>C</th>\n",
       "      <th>D</th>\n",
       "    </tr>\n",
       "  </thead>\n",
       "  <tbody>\n",
       "    <tr>\n",
       "      <th>2013-01-01</th>\n",
       "      <td>0.725385</td>\n",
       "      <td>-0.375967</td>\n",
       "      <td>0.654021</td>\n",
       "      <td>-2.064841</td>\n",
       "    </tr>\n",
       "    <tr>\n",
       "      <th>2013-01-02</th>\n",
       "      <td>0.259955</td>\n",
       "      <td>-0.208134</td>\n",
       "      <td>-0.635280</td>\n",
       "      <td>-1.133664</td>\n",
       "    </tr>\n",
       "    <tr>\n",
       "      <th>2013-01-03</th>\n",
       "      <td>0.154878</td>\n",
       "      <td>1.382225</td>\n",
       "      <td>-0.130069</td>\n",
       "      <td>0.252646</td>\n",
       "    </tr>\n",
       "    <tr>\n",
       "      <th>2013-01-04</th>\n",
       "      <td>0.885230</td>\n",
       "      <td>-0.044956</td>\n",
       "      <td>-0.227828</td>\n",
       "      <td>-0.085034</td>\n",
       "    </tr>\n",
       "    <tr>\n",
       "      <th>2013-01-05</th>\n",
       "      <td>-0.405593</td>\n",
       "      <td>-0.493906</td>\n",
       "      <td>0.931452</td>\n",
       "      <td>-0.611206</td>\n",
       "    </tr>\n",
       "    <tr>\n",
       "      <th>2013-01-06</th>\n",
       "      <td>0.438658</td>\n",
       "      <td>-0.569125</td>\n",
       "      <td>-0.245950</td>\n",
       "      <td>-1.683989</td>\n",
       "    </tr>\n",
       "  </tbody>\n",
       "</table>\n",
       "</div>"
      ],
      "text/plain": [
       "                   A         B         C         D\n",
       "2013-01-01  0.725385 -0.375967  0.654021 -2.064841\n",
       "2013-01-02  0.259955 -0.208134 -0.635280 -1.133664\n",
       "2013-01-03  0.154878  1.382225 -0.130069  0.252646\n",
       "2013-01-04  0.885230 -0.044956 -0.227828 -0.085034\n",
       "2013-01-05 -0.405593 -0.493906  0.931452 -0.611206\n",
       "2013-01-06  0.438658 -0.569125 -0.245950 -1.683989"
      ]
     },
     "execution_count": 54,
     "metadata": {},
     "output_type": "execute_result"
    }
   ],
   "source": [
    "df"
   ]
  },
  {
   "cell_type": "code",
   "execution_count": 55,
   "id": "43c2ff8e-00d6-4d93-934c-e0e7be33b70e",
   "metadata": {},
   "outputs": [
    {
     "data": {
      "text/html": [
       "<div>\n",
       "<style scoped>\n",
       "    .dataframe tbody tr th:only-of-type {\n",
       "        vertical-align: middle;\n",
       "    }\n",
       "\n",
       "    .dataframe tbody tr th {\n",
       "        vertical-align: top;\n",
       "    }\n",
       "\n",
       "    .dataframe thead th {\n",
       "        text-align: right;\n",
       "    }\n",
       "</style>\n",
       "<table border=\"1\" class=\"dataframe\">\n",
       "  <thead>\n",
       "    <tr style=\"text-align: right;\">\n",
       "      <th></th>\n",
       "      <th>A</th>\n",
       "      <th>B</th>\n",
       "      <th>C</th>\n",
       "      <th>D</th>\n",
       "    </tr>\n",
       "  </thead>\n",
       "  <tbody>\n",
       "    <tr>\n",
       "      <th>2013-01-02</th>\n",
       "      <td>0.259955</td>\n",
       "      <td>-0.208134</td>\n",
       "      <td>-0.635280</td>\n",
       "      <td>-1.133664</td>\n",
       "    </tr>\n",
       "    <tr>\n",
       "      <th>2013-01-03</th>\n",
       "      <td>0.154878</td>\n",
       "      <td>1.382225</td>\n",
       "      <td>-0.130069</td>\n",
       "      <td>0.252646</td>\n",
       "    </tr>\n",
       "    <tr>\n",
       "      <th>2013-01-04</th>\n",
       "      <td>0.885230</td>\n",
       "      <td>-0.044956</td>\n",
       "      <td>-0.227828</td>\n",
       "      <td>-0.085034</td>\n",
       "    </tr>\n",
       "  </tbody>\n",
       "</table>\n",
       "</div>"
      ],
      "text/plain": [
       "                   A         B         C         D\n",
       "2013-01-02  0.259955 -0.208134 -0.635280 -1.133664\n",
       "2013-01-03  0.154878  1.382225 -0.130069  0.252646\n",
       "2013-01-04  0.885230 -0.044956 -0.227828 -0.085034"
      ]
     },
     "execution_count": 55,
     "metadata": {},
     "output_type": "execute_result"
    }
   ],
   "source": [
    "df[\"20130102\":\"20130104\"]"
   ]
  },
  {
   "cell_type": "code",
   "execution_count": 56,
   "id": "41970f38-dc33-4889-a085-21bcff31865c",
   "metadata": {},
   "outputs": [
    {
     "name": "stdout",
     "output_type": "stream",
     "text": [
      "                   A         B         C         D\n",
      "2013-01-01  0.725385 -0.375967  0.654021 -2.064841\n",
      "2013-01-02  0.259955 -0.208134 -0.635280 -1.133664\n",
      "2013-01-03  0.154878  1.382225 -0.130069  0.252646\n",
      "2013-01-04  0.885230 -0.044956 -0.227828 -0.085034\n",
      "2013-01-05 -0.405593 -0.493906  0.931452 -0.611206\n",
      "                   A         B         C         D\n",
      "2013-01-01  0.725385 -0.375967  0.654021 -2.064841\n",
      "2013-01-02  0.259955 -0.208134 -0.635280 -1.133664\n",
      "2013-01-03  0.154878  1.382225 -0.130069  0.252646\n",
      "2013-01-04  0.885230 -0.044956 -0.227828 -0.085034\n",
      "2013-01-05 -0.405593 -0.493906  0.931452 -0.611206\n"
     ]
    }
   ],
   "source": [
    "df_filled = df.fillna(value=0)\n",
    "print(df_filled.head())\n",
    "df_dropped = df.dropna()\n",
    "print(df_dropped.head())"
   ]
  },
  {
   "cell_type": "code",
   "execution_count": 57,
   "id": "12919b1a-c0f8-4192-90dc-ac936e0caf16",
   "metadata": {},
   "outputs": [
    {
     "name": "stdout",
     "output_type": "stream",
     "text": [
      "                  B         C         D\n",
      "A                                      \n",
      "-0.405593 -0.493906  0.931452 -0.611206\n",
      " 0.154878  1.382225 -0.130069  0.252646\n",
      " 0.259955 -0.208134 -0.635280 -1.133664\n",
      " 0.438658 -0.569125 -0.245950 -1.683989\n",
      " 0.725385 -0.375967  0.654021 -2.064841\n",
      " 0.885230 -0.044956 -0.227828 -0.085034\n",
      "                  B                   C\n",
      "                min       max       sum\n",
      "A                                      \n",
      "-0.405593 -0.493906 -0.493906  0.931452\n",
      " 0.154878  1.382225  1.382225 -0.130069\n",
      " 0.259955 -0.208134 -0.208134 -0.635280\n",
      " 0.438658 -0.569125 -0.569125 -0.245950\n",
      " 0.725385 -0.375967 -0.375967  0.654021\n",
      " 0.885230 -0.044956 -0.044956 -0.227828\n"
     ]
    }
   ],
   "source": [
    "grouped = df.groupby('A').mean()\n",
    "print(grouped)\n",
    "aggregated = df.groupby('A').agg({'B': ['min', 'max'], 'C': 'sum'})\n",
    "print(aggregated)"
   ]
  },
  {
   "cell_type": "code",
   "execution_count": 58,
   "id": "67f9c133-d362-4384-8be5-a8fa6eafea95",
   "metadata": {},
   "outputs": [
    {
     "name": "stdout",
     "output_type": "stream",
     "text": [
      "                   A         B         C         D\n",
      "2013-01-06  2.058513 -0.309863  0.346346 -5.326088\n",
      "                   A         B         C         D\n",
      "2013-01-01       NaN       NaN       NaN       NaN\n",
      "2013-01-02       NaN       NaN       NaN       NaN\n",
      "2013-01-03  0.380073  0.266042 -0.037109 -0.981953\n",
      "2013-01-04  0.433354  0.376378 -0.331059 -0.322017\n",
      "2013-01-05  0.211505  0.281121  0.191185 -0.147864\n",
      "2013-01-06  0.306098 -0.369329  0.152558 -0.793410\n"
     ]
    }
   ],
   "source": [
    "weekly_resampled = df.resample('W').sum()\n",
    "print(weekly_resampled)\n",
    "rolling_mean = df.rolling(window=3).mean()\n",
    "print(rolling_mean)# Example DataFrame\n",
    "data2 = pd.DataFrame({'A': [1, 2, 3], 'B': [11, 12, 13]})\n",
    "\n",
    "# Merge df and data2\n",
    "merged_data = pd.merge(df, data2, on='A')\n",
    "print(merged_data)\n"
   ]
  },
  {
   "cell_type": "code",
   "execution_count": 59,
   "id": "ca565608-75c0-47aa-bc2a-beda3859e9cf",
   "metadata": {},
   "outputs": [
    {
     "name": "stdout",
     "output_type": "stream",
     "text": [
      "Empty DataFrame\n",
      "Columns: [A, B_x, C, D, B_y]\n",
      "Index: []\n"
     ]
    },
    {
     "name": "stderr",
     "output_type": "stream",
     "text": [
      "C:\\Users\\theno\\AppData\\Local\\Temp\\ipykernel_26948\\3205935847.py:2: UserWarning: You are merging on int and float columns where the float values are not equal to their int representation.\n",
      "  merged_data = pd.merge(df, data2, on='A')\n"
     ]
    }
   ],
   "source": [
    "data2 = pd.DataFrame({'A': [1, 2, 3], 'B': [11, 12, 13]})\n",
    "merged_data = pd.merge(df, data2, on='A')\n",
    "print(merged_data)"
   ]
  },
  {
   "cell_type": "code",
   "execution_count": 60,
   "id": "1eccd5b0-7e58-4bc5-9dcd-4a7caeb1747d",
   "metadata": {},
   "outputs": [
    {
     "name": "stdout",
     "output_type": "stream",
     "text": [
      "C          -0.635280  -0.245950  -0.227828  -0.130069   0.654021   0.931452\n",
      "A                                                                          \n",
      "-0.405593        NaN        NaN        NaN        NaN        NaN  -0.493906\n",
      " 0.154878        NaN        NaN        NaN   1.382225        NaN        NaN\n",
      " 0.259955  -0.208134        NaN        NaN        NaN        NaN        NaN\n",
      " 0.438658        NaN  -0.569125        NaN        NaN        NaN        NaN\n",
      " 0.725385        NaN        NaN        NaN        NaN  -0.375967        NaN\n",
      " 0.885230        NaN        NaN  -0.044956        NaN        NaN        NaN\n"
     ]
    }
   ],
   "source": [
    "pivot = df.pivot_table(values='B', index='A', columns='C')\n",
    "print(pivot)"
   ]
  },
  {
   "cell_type": "code",
   "execution_count": 61,
   "id": "4cd3b135-198e-41d6-8bc8-a737854c223a",
   "metadata": {},
   "outputs": [
    {
     "name": "stdout",
     "output_type": "stream",
     "text": [
      "   Unnamed: 0         A         B         C         D\n",
      "0  2013-01-01  0.725385 -0.375967  0.654021 -2.064841\n",
      "1  2013-01-02  0.259955 -0.208134 -0.635280 -1.133664\n",
      "2  2013-01-03  0.154878  1.382225 -0.130069  0.252646\n",
      "3  2013-01-04  0.885230 -0.044956 -0.227828 -0.085034\n",
      "4  2013-01-05 -0.405593 -0.493906  0.931452 -0.611206\n"
     ]
    }
   ],
   "source": [
    "df.to_csv('data_output.csv')\n",
    "\n",
    "df_loaded = pd.read_csv('data_output.csv')\n",
    "print(df_loaded.head())"
   ]
  },
  {
   "cell_type": "code",
   "execution_count": 62,
   "id": "53fdd6a0-bb36-452a-a0d1-44b4162d2720",
   "metadata": {},
   "outputs": [
    {
     "data": {
      "image/png": "[encoded data removed]",
      "text/plain": [
       "<Figure size 640x480 with 1 Axes>"
      ]
     },
     "metadata": {},
     "output_type": "display_data"
    }
   ],
   "source": [
    "import matplotlib.pyplot as plt\n",
    "\n",
    "rolling_mean.plot()\n",
    "plt.title('Rolling Mean of DataFrame')\n",
    "plt.xlabel('Date')\n",
    "plt.ylabel('Value')\n",
    "plt.legend(['A', 'B', 'C', 'D'])\n",
    "plt.show()"
   ]
  },
  {
   "cell_type": "code",
   "execution_count": null,
   "id": "067f0588-7924-4b5d-8e3c-ca3314477479",
   "metadata": {},
   "outputs": [],
   "source": []
  }
 ],
 "metadata": {
  "kernelspec": {
   "display_name": "Python 3 (ipykernel)",
   "language": "python",
   "name": "python3"
  },
  "language_info": {
   "codemirror_mode": {
    "name": "ipython",
    "version": 3
   },
   "file_extension": ".py",
   "mimetype": "text/x-python",
   "name": "python",
   "nbconvert_exporter": "python",
   "pygments_lexer": "ipython3",
   "version": "3.12.2"
  }
 },
 "nbformat": 4,
 "nbformat_minor": 5
}
